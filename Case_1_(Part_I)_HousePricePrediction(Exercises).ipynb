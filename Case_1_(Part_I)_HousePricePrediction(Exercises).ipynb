{
  "cells": [
    {
      "cell_type": "markdown",
      "metadata": {
        "id": "view-in-github",
        "colab_type": "text"
      },
      "source": [
        "<a href=\"https://colab.research.google.com/github/heychhavi/House-Price-Prediction/blob/main/Case_1_(Part_I)_HousePricePrediction(Exercises).ipynb\" target=\"_parent\"><img src=\"https://colab.research.google.com/assets/colab-badge.svg\" alt=\"Open In Colab\"/></a>"
      ]
    },
    {
      "cell_type": "markdown",
      "source": [
        "# Case 1 (Part I): House price prediction\n",
        "\n",
        "In this case (Part I), you will build a multilayer perceptron network to predict the selling price of properties. The dataset consists of all single family houses and condos that were sold in Denver in a given year.\n",
        "\n",
        "You need to submit the following files on canvas site:\n",
        "\n",
        "- A report in the pdf format containing the plots of the training errors for the multi-layer perception model and the linear regression model, and the answers to the two questions below.\n",
        "\n",
        "- The complete Jupyter notebook containing all your Pytorch code with explanations, along with a Markdown text explaining different parts if needed.\n",
        "\n",
        "\n"
      ],
      "metadata": {
        "id": "eqM8VQAFpTst"
      }
    },
    {
      "cell_type": "markdown",
      "source": [
        "---\n",
        "## Kaggle community competition: Prof. X's Prize\n",
        "\n",
        "\n",
        "You need to set up a Kaggle account and joined the Kaggle competition by following the [link](https://www.kaggle.com/t/3d9270b9cc774238bdcc8209bd705cbf).\n",
        "\n",
        "- Name your team as Section_X_Team_Y, where X is either A or B or C or D, and Y is your team number.\n",
        "- One of the team members can serve as team leader and invite other members of your team to join the team.\n",
        "\n",
        "- Each team can submit at most 20 predictions daily\n",
        "\n",
        "To get the test error for your model, you need to submit your predicted prices for test data on Kaggle. See Kaggle competition website for more detailed instructions. Note that in Part I of the case, you do not need to worry about optimizing your model to get the lowest error possible. The Part I will be graded based on your implemention of the base models as specified below.  We will come back to optimize the model and compete for Prof. X's Prize in Part II of the case."
      ],
      "metadata": {
        "id": "68m8rPx7vka3"
      }
    },
    {
      "cell_type": "markdown",
      "metadata": {
        "id": "s4QjqzSng9P7"
      },
      "source": [
        "---\n",
        "## Data Loading and Visualize Data\n",
        "\n",
        "\n",
        "The train data and test data are available on the Kaggle competition website.\n",
        "You need to first download them, then upload them to the google colab, and then read the data using pandas."
      ]
    },
    {
      "cell_type": "code",
      "execution_count": 462,
      "metadata": {
        "id": "K4gWVq036dy1",
        "scrolled": true,
        "ExecuteTime": {
          "end_time": "2023-08-14T16:46:12.975303400Z",
          "start_time": "2023-08-14T16:46:12.877462900Z"
        }
      },
      "outputs": [],
      "source": [
        "import pandas as pd  # Importing pandas, which is a library for data manipulation and analysis\n",
        "#Read the datasets\n",
        "train_df =pd.read_csv(\"train.csv\")\n",
        "test_df =pd.read_csv(\"test.csv\")"
      ]
    },
    {
      "cell_type": "code",
      "source": [
        "train_df.head()"
      ],
      "metadata": {
        "colab": {
          "base_uri": "https://localhost:8080/",
          "height": 330
        },
        "id": "PLLAKiyvSare",
        "outputId": "f1c756d8-38cf-4350-9e25-28274385649d"
      },
      "execution_count": 463,
      "outputs": [
        {
          "output_type": "execute_result",
          "data": {
            "text/plain": [
              "       ID                          NBHD               PROP_CLASS  LIVING_SQFT  \\\n",
              "0  454754                     MONTCLAIR             CONDOMINIUMS          928   \n",
              "1  190773                      HIGHLAND  SINGLE FAMILY RESIDENCE         2338   \n",
              "2  159143                   ATHMAR PARK  SINGLE FAMILY RESIDENCE          999   \n",
              "3  110649                     MONTCLAIR  SINGLE FAMILY RESIDENCE          876   \n",
              "4  694203  GATEWAY / GREEN VALLEY RANCH  SINGLE FAMILY RESIDENCE         1729   \n",
              "\n",
              "   FBSMT_SQFT  BSMT_AREA  LAND_SQFT  GRD_AREA  BLDG_AGE  RM_AGE  BED_RMS  \\\n",
              "0           0          0          0         0        60     4.0      2.0   \n",
              "1         900        948       3125         0         6     NaN      3.0   \n",
              "2         757        807       8900         0        67     6.0      3.0   \n",
              "3           0          0       6100         0        77    15.0      2.0   \n",
              "4           0          0       2160         0         1     NaN      3.0   \n",
              "\n",
              "   FULL_B  HLF_B  STORY     STYLE_CN  UNITS  SALE_PRICE  \n",
              "0     2.0      0    1.0     END UNIT    1.0      285000  \n",
              "1     4.0      1    3.0     END UNIT    1.0     1230000  \n",
              "2     2.0      0    1.0      1 STORY    1.0      420000  \n",
              "3     1.0      0    1.0      1 STORY    1.0      355000  \n",
              "4     2.0      1    2.0  MIDDLE UNIT    1.0      339500  "
            ],
            "text/html": [
              "\n",
              "  <div id=\"df-808c25f3-06b6-4ba6-bc33-ac3f666044ba\" class=\"colab-df-container\">\n",
              "    <div>\n",
              "<style scoped>\n",
              "    .dataframe tbody tr th:only-of-type {\n",
              "        vertical-align: middle;\n",
              "    }\n",
              "\n",
              "    .dataframe tbody tr th {\n",
              "        vertical-align: top;\n",
              "    }\n",
              "\n",
              "    .dataframe thead th {\n",
              "        text-align: right;\n",
              "    }\n",
              "</style>\n",
              "<table border=\"1\" class=\"dataframe\">\n",
              "  <thead>\n",
              "    <tr style=\"text-align: right;\">\n",
              "      <th></th>\n",
              "      <th>ID</th>\n",
              "      <th>NBHD</th>\n",
              "      <th>PROP_CLASS</th>\n",
              "      <th>LIVING_SQFT</th>\n",
              "      <th>FBSMT_SQFT</th>\n",
              "      <th>BSMT_AREA</th>\n",
              "      <th>LAND_SQFT</th>\n",
              "      <th>GRD_AREA</th>\n",
              "      <th>BLDG_AGE</th>\n",
              "      <th>RM_AGE</th>\n",
              "      <th>BED_RMS</th>\n",
              "      <th>FULL_B</th>\n",
              "      <th>HLF_B</th>\n",
              "      <th>STORY</th>\n",
              "      <th>STYLE_CN</th>\n",
              "      <th>UNITS</th>\n",
              "      <th>SALE_PRICE</th>\n",
              "    </tr>\n",
              "  </thead>\n",
              "  <tbody>\n",
              "    <tr>\n",
              "      <th>0</th>\n",
              "      <td>454754</td>\n",
              "      <td>MONTCLAIR</td>\n",
              "      <td>CONDOMINIUMS</td>\n",
              "      <td>928</td>\n",
              "      <td>0</td>\n",
              "      <td>0</td>\n",
              "      <td>0</td>\n",
              "      <td>0</td>\n",
              "      <td>60</td>\n",
              "      <td>4.0</td>\n",
              "      <td>2.0</td>\n",
              "      <td>2.0</td>\n",
              "      <td>0</td>\n",
              "      <td>1.0</td>\n",
              "      <td>END UNIT</td>\n",
              "      <td>1.0</td>\n",
              "      <td>285000</td>\n",
              "    </tr>\n",
              "    <tr>\n",
              "      <th>1</th>\n",
              "      <td>190773</td>\n",
              "      <td>HIGHLAND</td>\n",
              "      <td>SINGLE FAMILY RESIDENCE</td>\n",
              "      <td>2338</td>\n",
              "      <td>900</td>\n",
              "      <td>948</td>\n",
              "      <td>3125</td>\n",
              "      <td>0</td>\n",
              "      <td>6</td>\n",
              "      <td>NaN</td>\n",
              "      <td>3.0</td>\n",
              "      <td>4.0</td>\n",
              "      <td>1</td>\n",
              "      <td>3.0</td>\n",
              "      <td>END UNIT</td>\n",
              "      <td>1.0</td>\n",
              "      <td>1230000</td>\n",
              "    </tr>\n",
              "    <tr>\n",
              "      <th>2</th>\n",
              "      <td>159143</td>\n",
              "      <td>ATHMAR PARK</td>\n",
              "      <td>SINGLE FAMILY RESIDENCE</td>\n",
              "      <td>999</td>\n",
              "      <td>757</td>\n",
              "      <td>807</td>\n",
              "      <td>8900</td>\n",
              "      <td>0</td>\n",
              "      <td>67</td>\n",
              "      <td>6.0</td>\n",
              "      <td>3.0</td>\n",
              "      <td>2.0</td>\n",
              "      <td>0</td>\n",
              "      <td>1.0</td>\n",
              "      <td>1 STORY</td>\n",
              "      <td>1.0</td>\n",
              "      <td>420000</td>\n",
              "    </tr>\n",
              "    <tr>\n",
              "      <th>3</th>\n",
              "      <td>110649</td>\n",
              "      <td>MONTCLAIR</td>\n",
              "      <td>SINGLE FAMILY RESIDENCE</td>\n",
              "      <td>876</td>\n",
              "      <td>0</td>\n",
              "      <td>0</td>\n",
              "      <td>6100</td>\n",
              "      <td>0</td>\n",
              "      <td>77</td>\n",
              "      <td>15.0</td>\n",
              "      <td>2.0</td>\n",
              "      <td>1.0</td>\n",
              "      <td>0</td>\n",
              "      <td>1.0</td>\n",
              "      <td>1 STORY</td>\n",
              "      <td>1.0</td>\n",
              "      <td>355000</td>\n",
              "    </tr>\n",
              "    <tr>\n",
              "      <th>4</th>\n",
              "      <td>694203</td>\n",
              "      <td>GATEWAY / GREEN VALLEY RANCH</td>\n",
              "      <td>SINGLE FAMILY RESIDENCE</td>\n",
              "      <td>1729</td>\n",
              "      <td>0</td>\n",
              "      <td>0</td>\n",
              "      <td>2160</td>\n",
              "      <td>0</td>\n",
              "      <td>1</td>\n",
              "      <td>NaN</td>\n",
              "      <td>3.0</td>\n",
              "      <td>2.0</td>\n",
              "      <td>1</td>\n",
              "      <td>2.0</td>\n",
              "      <td>MIDDLE UNIT</td>\n",
              "      <td>1.0</td>\n",
              "      <td>339500</td>\n",
              "    </tr>\n",
              "  </tbody>\n",
              "</table>\n",
              "</div>\n",
              "    <div class=\"colab-df-buttons\">\n",
              "\n",
              "  <div class=\"colab-df-container\">\n",
              "    <button class=\"colab-df-convert\" onclick=\"convertToInteractive('df-808c25f3-06b6-4ba6-bc33-ac3f666044ba')\"\n",
              "            title=\"Convert this dataframe to an interactive table.\"\n",
              "            style=\"display:none;\">\n",
              "\n",
              "  <svg xmlns=\"http://www.w3.org/2000/svg\" height=\"24px\" viewBox=\"0 -960 960 960\">\n",
              "    <path d=\"M120-120v-720h720v720H120Zm60-500h600v-160H180v160Zm220 220h160v-160H400v160Zm0 220h160v-160H400v160ZM180-400h160v-160H180v160Zm440 0h160v-160H620v160ZM180-180h160v-160H180v160Zm440 0h160v-160H620v160Z\"/>\n",
              "  </svg>\n",
              "    </button>\n",
              "\n",
              "  <style>\n",
              "    .colab-df-container {\n",
              "      display:flex;\n",
              "      gap: 12px;\n",
              "    }\n",
              "\n",
              "    .colab-df-convert {\n",
              "      background-color: #E8F0FE;\n",
              "      border: none;\n",
              "      border-radius: 50%;\n",
              "      cursor: pointer;\n",
              "      display: none;\n",
              "      fill: #1967D2;\n",
              "      height: 32px;\n",
              "      padding: 0 0 0 0;\n",
              "      width: 32px;\n",
              "    }\n",
              "\n",
              "    .colab-df-convert:hover {\n",
              "      background-color: #E2EBFA;\n",
              "      box-shadow: 0px 1px 2px rgba(60, 64, 67, 0.3), 0px 1px 3px 1px rgba(60, 64, 67, 0.15);\n",
              "      fill: #174EA6;\n",
              "    }\n",
              "\n",
              "    .colab-df-buttons div {\n",
              "      margin-bottom: 4px;\n",
              "    }\n",
              "\n",
              "    [theme=dark] .colab-df-convert {\n",
              "      background-color: #3B4455;\n",
              "      fill: #D2E3FC;\n",
              "    }\n",
              "\n",
              "    [theme=dark] .colab-df-convert:hover {\n",
              "      background-color: #434B5C;\n",
              "      box-shadow: 0px 1px 3px 1px rgba(0, 0, 0, 0.15);\n",
              "      filter: drop-shadow(0px 1px 2px rgba(0, 0, 0, 0.3));\n",
              "      fill: #FFFFFF;\n",
              "    }\n",
              "  </style>\n",
              "\n",
              "    <script>\n",
              "      const buttonEl =\n",
              "        document.querySelector('#df-808c25f3-06b6-4ba6-bc33-ac3f666044ba button.colab-df-convert');\n",
              "      buttonEl.style.display =\n",
              "        google.colab.kernel.accessAllowed ? 'block' : 'none';\n",
              "\n",
              "      async function convertToInteractive(key) {\n",
              "        const element = document.querySelector('#df-808c25f3-06b6-4ba6-bc33-ac3f666044ba');\n",
              "        const dataTable =\n",
              "          await google.colab.kernel.invokeFunction('convertToInteractive',\n",
              "                                                    [key], {});\n",
              "        if (!dataTable) return;\n",
              "\n",
              "        const docLinkHtml = 'Like what you see? Visit the ' +\n",
              "          '<a target=\"_blank\" href=https://colab.research.google.com/notebooks/data_table.ipynb>data table notebook</a>'\n",
              "          + ' to learn more about interactive tables.';\n",
              "        element.innerHTML = '';\n",
              "        dataTable['output_type'] = 'display_data';\n",
              "        await google.colab.output.renderOutput(dataTable, element);\n",
              "        const docLink = document.createElement('div');\n",
              "        docLink.innerHTML = docLinkHtml;\n",
              "        element.appendChild(docLink);\n",
              "      }\n",
              "    </script>\n",
              "  </div>\n",
              "\n",
              "\n",
              "<div id=\"df-9d9ab6de-2c3b-4631-8eb7-4cda05e96113\">\n",
              "  <button class=\"colab-df-quickchart\" onclick=\"quickchart('df-9d9ab6de-2c3b-4631-8eb7-4cda05e96113')\"\n",
              "            title=\"Suggest charts\"\n",
              "            style=\"display:none;\">\n",
              "\n",
              "<svg xmlns=\"http://www.w3.org/2000/svg\" height=\"24px\"viewBox=\"0 0 24 24\"\n",
              "     width=\"24px\">\n",
              "    <g>\n",
              "        <path d=\"M19 3H5c-1.1 0-2 .9-2 2v14c0 1.1.9 2 2 2h14c1.1 0 2-.9 2-2V5c0-1.1-.9-2-2-2zM9 17H7v-7h2v7zm4 0h-2V7h2v10zm4 0h-2v-4h2v4z\"/>\n",
              "    </g>\n",
              "</svg>\n",
              "  </button>\n",
              "\n",
              "<style>\n",
              "  .colab-df-quickchart {\n",
              "      --bg-color: #E8F0FE;\n",
              "      --fill-color: #1967D2;\n",
              "      --hover-bg-color: #E2EBFA;\n",
              "      --hover-fill-color: #174EA6;\n",
              "      --disabled-fill-color: #AAA;\n",
              "      --disabled-bg-color: #DDD;\n",
              "  }\n",
              "\n",
              "  [theme=dark] .colab-df-quickchart {\n",
              "      --bg-color: #3B4455;\n",
              "      --fill-color: #D2E3FC;\n",
              "      --hover-bg-color: #434B5C;\n",
              "      --hover-fill-color: #FFFFFF;\n",
              "      --disabled-bg-color: #3B4455;\n",
              "      --disabled-fill-color: #666;\n",
              "  }\n",
              "\n",
              "  .colab-df-quickchart {\n",
              "    background-color: var(--bg-color);\n",
              "    border: none;\n",
              "    border-radius: 50%;\n",
              "    cursor: pointer;\n",
              "    display: none;\n",
              "    fill: var(--fill-color);\n",
              "    height: 32px;\n",
              "    padding: 0;\n",
              "    width: 32px;\n",
              "  }\n",
              "\n",
              "  .colab-df-quickchart:hover {\n",
              "    background-color: var(--hover-bg-color);\n",
              "    box-shadow: 0 1px 2px rgba(60, 64, 67, 0.3), 0 1px 3px 1px rgba(60, 64, 67, 0.15);\n",
              "    fill: var(--button-hover-fill-color);\n",
              "  }\n",
              "\n",
              "  .colab-df-quickchart-complete:disabled,\n",
              "  .colab-df-quickchart-complete:disabled:hover {\n",
              "    background-color: var(--disabled-bg-color);\n",
              "    fill: var(--disabled-fill-color);\n",
              "    box-shadow: none;\n",
              "  }\n",
              "\n",
              "  .colab-df-spinner {\n",
              "    border: 2px solid var(--fill-color);\n",
              "    border-color: transparent;\n",
              "    border-bottom-color: var(--fill-color);\n",
              "    animation:\n",
              "      spin 1s steps(1) infinite;\n",
              "  }\n",
              "\n",
              "  @keyframes spin {\n",
              "    0% {\n",
              "      border-color: transparent;\n",
              "      border-bottom-color: var(--fill-color);\n",
              "      border-left-color: var(--fill-color);\n",
              "    }\n",
              "    20% {\n",
              "      border-color: transparent;\n",
              "      border-left-color: var(--fill-color);\n",
              "      border-top-color: var(--fill-color);\n",
              "    }\n",
              "    30% {\n",
              "      border-color: transparent;\n",
              "      border-left-color: var(--fill-color);\n",
              "      border-top-color: var(--fill-color);\n",
              "      border-right-color: var(--fill-color);\n",
              "    }\n",
              "    40% {\n",
              "      border-color: transparent;\n",
              "      border-right-color: var(--fill-color);\n",
              "      border-top-color: var(--fill-color);\n",
              "    }\n",
              "    60% {\n",
              "      border-color: transparent;\n",
              "      border-right-color: var(--fill-color);\n",
              "    }\n",
              "    80% {\n",
              "      border-color: transparent;\n",
              "      border-right-color: var(--fill-color);\n",
              "      border-bottom-color: var(--fill-color);\n",
              "    }\n",
              "    90% {\n",
              "      border-color: transparent;\n",
              "      border-bottom-color: var(--fill-color);\n",
              "    }\n",
              "  }\n",
              "</style>\n",
              "\n",
              "  <script>\n",
              "    async function quickchart(key) {\n",
              "      const quickchartButtonEl =\n",
              "        document.querySelector('#' + key + ' button');\n",
              "      quickchartButtonEl.disabled = true;  // To prevent multiple clicks.\n",
              "      quickchartButtonEl.classList.add('colab-df-spinner');\n",
              "      try {\n",
              "        const charts = await google.colab.kernel.invokeFunction(\n",
              "            'suggestCharts', [key], {});\n",
              "      } catch (error) {\n",
              "        console.error('Error during call to suggestCharts:', error);\n",
              "      }\n",
              "      quickchartButtonEl.classList.remove('colab-df-spinner');\n",
              "      quickchartButtonEl.classList.add('colab-df-quickchart-complete');\n",
              "    }\n",
              "    (() => {\n",
              "      let quickchartButtonEl =\n",
              "        document.querySelector('#df-9d9ab6de-2c3b-4631-8eb7-4cda05e96113 button');\n",
              "      quickchartButtonEl.style.display =\n",
              "        google.colab.kernel.accessAllowed ? 'block' : 'none';\n",
              "    })();\n",
              "  </script>\n",
              "</div>\n",
              "\n",
              "    </div>\n",
              "  </div>\n"
            ]
          },
          "metadata": {},
          "execution_count": 463
        }
      ]
    },
    {
      "cell_type": "markdown",
      "source": [
        "### Visualization of SALE PRICES in train data\n",
        "\n",
        "Let's take a closer look at the sale prices in the train data."
      ],
      "metadata": {
        "id": "-Mo-iBoh0MJK"
      }
    },
    {
      "cell_type": "code",
      "source": [
        "import seaborn as sns\n",
        "import matplotlib.pyplot as plt  # Importing matplotlib's pyplot for making plots and charts\n",
        "\n",
        "# Set the style\n",
        "sns.set(style=\"whitegrid\")\n",
        "\n",
        "# Create a histogram\n",
        "plt.figure(figsize=(10, 6))\n",
        "sns.histplot(train_df['SALE_PRICE'], bins=50, color='blue')\n",
        "plt.title('Histogram of Sale Prices (Train Data)')\n",
        "plt.xlabel('Sale Price')\n",
        "plt.ylabel('Number of Properties')\n",
        "plt.show()"
      ],
      "metadata": {
        "id": "fiGSFJFy0Rl-",
        "colab": {
          "base_uri": "https://localhost:8080/",
          "height": 573
        },
        "outputId": "2a160673-6a49-459d-8229-8260b4e27679"
      },
      "execution_count": 464,
      "outputs": [
        {
          "output_type": "display_data",
          "data": {
            "text/plain": [
              "<Figure size 1000x600 with 1 Axes>"
            ],
            "image/png": "[encoded data removed]"
          },
          "metadata": {}
        }
      ]
    },
    {
      "cell_type": "markdown",
      "source": [
        "---\n",
        "## Data Preparation\n",
        "\n",
        "The first step when building a neural network model is getting your data into the proper form to feed into the network.\n",
        "\n",
        "- **Train labels**: We need to extract the sale prices from the train data as train labels. Since the house prices can take very large values, to make training fast it is helpful to define the train labels as the sale prices divided by a normalization factor.\n",
        "\n",
        "- **Handing non-numeric features**: Some of the house features are non-numeric. We will learn about how to process categorical data in the upcoming lectures. For now, you can  remove those non-numeric features and only train over the numeric features.\n",
        "\n",
        "- **Feature standardization**: When predicting house prices, you started from features that took a variety of ranges—some features had small floating-point values, and others had fairly large integer values. The model might be able to automatically adapt to such heterogeneous data, but it would definitely make learning more difficult. A widespread best practice for dealing with such data is to do feature-wise normalization: for each feature in the input data (a column in the input dataframe), we subtract the mean of the feature and divide by the standard deviation, so that the feature is centered around 0 and has\n",
        "a unit standard deviation. **Note**: We need to ensure that the train and test data go through the same normalization.\n",
        "\n",
        "- **Handling missing values**: There may exist some entries with missing values. After the feature standardization, we can impute the missing values with zeros."
      ],
      "metadata": {
        "id": "PHY3Ye4wCmWM"
      }
    },
    {
      "cell_type": "markdown",
      "source": [
        "#### Train labels"
      ],
      "metadata": {
        "id": "uG6TtQWz1Ss6"
      }
    },
    {
      "cell_type": "markdown",
      "source": [
        "We see that the sale_price in train data has a wide range from 50K to 2 million, with the median price 431K. We can divide the sale_price by 100K, so the normalized sale_price is between 0.5 and 20 in training data. Remember, when we output the predicted price for the test data, we need to multiply back the normalization factor."
      ],
      "metadata": {
        "id": "rCOi8_E20q0A"
      }
    },
    {
      "cell_type": "code",
      "source": [
        "#TODO: Write code to construct feature vectors for train and test data after data preparation.\n",
        "train_df = train_df.drop(columns = ['ID'])\n",
        "test_df = test_df.drop(columns = ['ID'])"
      ],
      "metadata": {
        "id": "ROUIrsA0Bn1F"
      },
      "execution_count": 465,
      "outputs": []
    },
    {
      "cell_type": "code",
      "source": [
        "#TODO: define labels for train data as the sale prices divided by $100,000\n",
        "normalization_factor=100000\n",
        "train_labels = train_df['SALE_PRICE']/normalization_factor"
      ],
      "metadata": {
        "id": "Zp02cVWcBOJb"
      },
      "execution_count": 466,
      "outputs": []
    },
    {
      "cell_type": "code",
      "source": [
        "train_labels"
      ],
      "metadata": {
        "colab": {
          "base_uri": "https://localhost:8080/"
        },
        "id": "BU6kYuCKNm4K",
        "outputId": "188338a3-3f3a-4208-e98f-c6d0ae853085"
      },
      "execution_count": 467,
      "outputs": [
        {
          "output_type": "execute_result",
          "data": {
            "text/plain": [
              "0         2.850\n",
              "1        12.300\n",
              "2         4.200\n",
              "3         3.550\n",
              "4         3.395\n",
              "          ...  \n",
              "11576     3.149\n",
              "11577     5.395\n",
              "11578     6.020\n",
              "11579     3.837\n",
              "11580     5.500\n",
              "Name: SALE_PRICE, Length: 11581, dtype: float64"
            ]
          },
          "metadata": {},
          "execution_count": 467
        }
      ]
    },
    {
      "cell_type": "code",
      "source": [
        "train_features = train_df.drop(columns = ['SALE_PRICE'])\n",
        "test_features = test_df"
      ],
      "metadata": {
        "id": "veHzXXjeN0PK"
      },
      "execution_count": 468,
      "outputs": []
    },
    {
      "cell_type": "code",
      "source": [
        "train_labels.shape"
      ],
      "metadata": {
        "id": "QjV866fJBuNt",
        "colab": {
          "base_uri": "https://localhost:8080/"
        },
        "outputId": "cbd97ecc-54ac-4b6b-8cd0-8450c41e3148"
      },
      "execution_count": 469,
      "outputs": [
        {
          "output_type": "execute_result",
          "data": {
            "text/plain": [
              "(11581,)"
            ]
          },
          "metadata": {},
          "execution_count": 469
        }
      ]
    },
    {
      "cell_type": "markdown",
      "source": [
        "####Handing non-numeric features"
      ],
      "metadata": {
        "id": "Sp1IpKJ81Yeg"
      }
    },
    {
      "cell_type": "code",
      "source": [
        "train_features.dtypes"
      ],
      "metadata": {
        "colab": {
          "base_uri": "https://localhost:8080/"
        },
        "id": "MJddzH2kUZCB",
        "outputId": "2ebef490-058a-4e96-f7e2-1d1fdea10f24"
      },
      "execution_count": 470,
      "outputs": [
        {
          "output_type": "execute_result",
          "data": {
            "text/plain": [
              "NBHD            object\n",
              "PROP_CLASS      object\n",
              "LIVING_SQFT      int64\n",
              "FBSMT_SQFT       int64\n",
              "BSMT_AREA        int64\n",
              "LAND_SQFT        int64\n",
              "GRD_AREA         int64\n",
              "BLDG_AGE         int64\n",
              "RM_AGE         float64\n",
              "BED_RMS        float64\n",
              "FULL_B         float64\n",
              "HLF_B            int64\n",
              "STORY          float64\n",
              "STYLE_CN        object\n",
              "UNITS          float64\n",
              "dtype: object"
            ]
          },
          "metadata": {},
          "execution_count": 470
        }
      ]
    },
    {
      "cell_type": "code",
      "source": [
        "train_features = train_features.select_dtypes(exclude=['object'])\n",
        "test_features = test_features.select_dtypes(exclude=['object'])"
      ],
      "metadata": {
        "id": "xB9VCUGDUv7W"
      },
      "execution_count": 471,
      "outputs": []
    },
    {
      "cell_type": "code",
      "source": [
        "train_features.shape, test_features.shape"
      ],
      "metadata": {
        "id": "lJA07PMIBjPj",
        "colab": {
          "base_uri": "https://localhost:8080/"
        },
        "outputId": "d2c4af94-9064-4c78-9284-7b063e76870c"
      },
      "execution_count": 472,
      "outputs": [
        {
          "output_type": "execute_result",
          "data": {
            "text/plain": [
              "((11581, 12), (4964, 12))"
            ]
          },
          "metadata": {},
          "execution_count": 472
        }
      ]
    },
    {
      "cell_type": "markdown",
      "source": [
        "#### Handling missing values"
      ],
      "metadata": {
        "id": "BJL5_4wE1cqd"
      }
    },
    {
      "cell_type": "code",
      "source": [
        "train_features = train_features.fillna(0)\n",
        "test_features = test_features.fillna(0)"
      ],
      "metadata": {
        "id": "-TcJybHtXgqj"
      },
      "execution_count": 473,
      "outputs": []
    },
    {
      "cell_type": "markdown",
      "source": [
        "#### Feature standardization"
      ],
      "metadata": {
        "id": "FacDXdW3EX5z"
      }
    },
    {
      "cell_type": "code",
      "source": [
        "train_features.describe()"
      ],
      "metadata": {
        "colab": {
          "base_uri": "https://localhost:8080/",
          "height": 320
        },
        "id": "5HNflfwHEZn4",
        "outputId": "de6b230b-887c-4a7d-bdbd-3c3821c57652"
      },
      "execution_count": 474,
      "outputs": [
        {
          "output_type": "execute_result",
          "data": {
            "text/plain": [
              "        LIVING_SQFT    FBSMT_SQFT     BSMT_AREA     LAND_SQFT      GRD_AREA  \\\n",
              "count  11581.000000  11581.000000  11581.000000  11581.000000  11581.000000   \n",
              "mean    1455.272515    325.328037    458.812538   3932.483637     18.771522   \n",
              "std      708.466454    468.867156    555.551763   3458.545954    113.896776   \n",
              "min      314.000000      0.000000      0.000000      0.000000      0.000000   \n",
              "25%      952.000000      0.000000      0.000000      0.000000      0.000000   \n",
              "50%     1272.000000      0.000000      0.000000   3610.000000      0.000000   \n",
              "75%     1764.000000    723.000000    905.000000   6250.000000      0.000000   \n",
              "max     6812.000000   3210.000000   4439.000000  36900.000000   1710.000000   \n",
              "\n",
              "           BLDG_AGE        RM_AGE       BED_RMS        FULL_B         HLF_B  \\\n",
              "count  11581.000000  11581.000000  11581.000000  11581.000000  11581.000000   \n",
              "mean      46.301615      3.206027      2.446335      2.052327      0.420603   \n",
              "std       38.208671      6.543955      0.897795      0.877580      0.540601   \n",
              "min        0.000000      0.000000      0.000000      1.000000      0.000000   \n",
              "25%        9.000000      0.000000      2.000000      1.000000      0.000000   \n",
              "50%       47.000000      0.000000      2.000000      2.000000      0.000000   \n",
              "75%       70.000000      3.000000      3.000000      3.000000      1.000000   \n",
              "max      142.000000     77.000000      8.000000      8.000000      3.000000   \n",
              "\n",
              "              STORY         UNITS  \n",
              "count  11581.000000  11581.000000  \n",
              "mean       1.488516      1.016579  \n",
              "std        0.647499      0.159559  \n",
              "min        1.000000      1.000000  \n",
              "25%        1.000000      1.000000  \n",
              "50%        1.000000      1.000000  \n",
              "75%        2.000000      1.000000  \n",
              "max        4.000000      5.000000  "
            ],
            "text/html": [
              "\n",
              "  <div id=\"df-24108d46-1d28-4bff-a031-bbe00e566db8\" class=\"colab-df-container\">\n",
              "    <div>\n",
              "<style scoped>\n",
              "    .dataframe tbody tr th:only-of-type {\n",
              "        vertical-align: middle;\n",
              "    }\n",
              "\n",
              "    .dataframe tbody tr th {\n",
              "        vertical-align: top;\n",
              "    }\n",
              "\n",
              "    .dataframe thead th {\n",
              "        text-align: right;\n",
              "    }\n",
              "</style>\n",
              "<table border=\"1\" class=\"dataframe\">\n",
              "  <thead>\n",
              "    <tr style=\"text-align: right;\">\n",
              "      <th></th>\n",
              "      <th>LIVING_SQFT</th>\n",
              "      <th>FBSMT_SQFT</th>\n",
              "      <th>BSMT_AREA</th>\n",
              "      <th>LAND_SQFT</th>\n",
              "      <th>GRD_AREA</th>\n",
              "      <th>BLDG_AGE</th>\n",
              "      <th>RM_AGE</th>\n",
              "      <th>BED_RMS</th>\n",
              "      <th>FULL_B</th>\n",
              "      <th>HLF_B</th>\n",
              "      <th>STORY</th>\n",
              "      <th>UNITS</th>\n",
              "    </tr>\n",
              "  </thead>\n",
              "  <tbody>\n",
              "    <tr>\n",
              "      <th>count</th>\n",
              "      <td>11581.000000</td>\n",
              "      <td>11581.000000</td>\n",
              "      <td>11581.000000</td>\n",
              "      <td>11581.000000</td>\n",
              "      <td>11581.000000</td>\n",
              "      <td>11581.000000</td>\n",
              "      <td>11581.000000</td>\n",
              "      <td>11581.000000</td>\n",
              "      <td>11581.000000</td>\n",
              "      <td>11581.000000</td>\n",
              "      <td>11581.000000</td>\n",
              "      <td>11581.000000</td>\n",
              "    </tr>\n",
              "    <tr>\n",
              "      <th>mean</th>\n",
              "      <td>1455.272515</td>\n",
              "      <td>325.328037</td>\n",
              "      <td>458.812538</td>\n",
              "      <td>3932.483637</td>\n",
              "      <td>18.771522</td>\n",
              "      <td>46.301615</td>\n",
              "      <td>3.206027</td>\n",
              "      <td>2.446335</td>\n",
              "      <td>2.052327</td>\n",
              "      <td>0.420603</td>\n",
              "      <td>1.488516</td>\n",
              "      <td>1.016579</td>\n",
              "    </tr>\n",
              "    <tr>\n",
              "      <th>std</th>\n",
              "      <td>708.466454</td>\n",
              "      <td>468.867156</td>\n",
              "      <td>555.551763</td>\n",
              "      <td>3458.545954</td>\n",
              "      <td>113.896776</td>\n",
              "      <td>38.208671</td>\n",
              "      <td>6.543955</td>\n",
              "      <td>0.897795</td>\n",
              "      <td>0.877580</td>\n",
              "      <td>0.540601</td>\n",
              "      <td>0.647499</td>\n",
              "      <td>0.159559</td>\n",
              "    </tr>\n",
              "    <tr>\n",
              "      <th>min</th>\n",
              "      <td>314.000000</td>\n",
              "      <td>0.000000</td>\n",
              "      <td>0.000000</td>\n",
              "      <td>0.000000</td>\n",
              "      <td>0.000000</td>\n",
              "      <td>0.000000</td>\n",
              "      <td>0.000000</td>\n",
              "      <td>0.000000</td>\n",
              "      <td>1.000000</td>\n",
              "      <td>0.000000</td>\n",
              "      <td>1.000000</td>\n",
              "      <td>1.000000</td>\n",
              "    </tr>\n",
              "    <tr>\n",
              "      <th>25%</th>\n",
              "      <td>952.000000</td>\n",
              "      <td>0.000000</td>\n",
              "      <td>0.000000</td>\n",
              "      <td>0.000000</td>\n",
              "      <td>0.000000</td>\n",
              "      <td>9.000000</td>\n",
              "      <td>0.000000</td>\n",
              "      <td>2.000000</td>\n",
              "      <td>1.000000</td>\n",
              "      <td>0.000000</td>\n",
              "      <td>1.000000</td>\n",
              "      <td>1.000000</td>\n",
              "    </tr>\n",
              "    <tr>\n",
              "      <th>50%</th>\n",
              "      <td>1272.000000</td>\n",
              "      <td>0.000000</td>\n",
              "      <td>0.000000</td>\n",
              "      <td>3610.000000</td>\n",
              "      <td>0.000000</td>\n",
              "      <td>47.000000</td>\n",
              "      <td>0.000000</td>\n",
              "      <td>2.000000</td>\n",
              "      <td>2.000000</td>\n",
              "      <td>0.000000</td>\n",
              "      <td>1.000000</td>\n",
              "      <td>1.000000</td>\n",
              "    </tr>\n",
              "    <tr>\n",
              "      <th>75%</th>\n",
              "      <td>1764.000000</td>\n",
              "      <td>723.000000</td>\n",
              "      <td>905.000000</td>\n",
              "      <td>6250.000000</td>\n",
              "      <td>0.000000</td>\n",
              "      <td>70.000000</td>\n",
              "      <td>3.000000</td>\n",
              "      <td>3.000000</td>\n",
              "      <td>3.000000</td>\n",
              "      <td>1.000000</td>\n",
              "      <td>2.000000</td>\n",
              "      <td>1.000000</td>\n",
              "    </tr>\n",
              "    <tr>\n",
              "      <th>max</th>\n",
              "      <td>6812.000000</td>\n",
              "      <td>3210.000000</td>\n",
              "      <td>4439.000000</td>\n",
              "      <td>36900.000000</td>\n",
              "      <td>1710.000000</td>\n",
              "      <td>142.000000</td>\n",
              "      <td>77.000000</td>\n",
              "      <td>8.000000</td>\n",
              "      <td>8.000000</td>\n",
              "      <td>3.000000</td>\n",
              "      <td>4.000000</td>\n",
              "      <td>5.000000</td>\n",
              "    </tr>\n",
              "  </tbody>\n",
              "</table>\n",
              "</div>\n",
              "    <div class=\"colab-df-buttons\">\n",
              "\n",
              "  <div class=\"colab-df-container\">\n",
              "    <button class=\"colab-df-convert\" onclick=\"convertToInteractive('df-24108d46-1d28-4bff-a031-bbe00e566db8')\"\n",
              "            title=\"Convert this dataframe to an interactive table.\"\n",
              "            style=\"display:none;\">\n",
              "\n",
              "  <svg xmlns=\"http://www.w3.org/2000/svg\" height=\"24px\" viewBox=\"0 -960 960 960\">\n",
              "    <path d=\"M120-120v-720h720v720H120Zm60-500h600v-160H180v160Zm220 220h160v-160H400v160Zm0 220h160v-160H400v160ZM180-400h160v-160H180v160Zm440 0h160v-160H620v160ZM180-180h160v-160H180v160Zm440 0h160v-160H620v160Z\"/>\n",
              "  </svg>\n",
              "    </button>\n",
              "\n",
              "  <style>\n",
              "    .colab-df-container {\n",
              "      display:flex;\n",
              "      gap: 12px;\n",
              "    }\n",
              "\n",
              "    .colab-df-convert {\n",
              "      background-color: #E8F0FE;\n",
              "      border: none;\n",
              "      border-radius: 50%;\n",
              "      cursor: pointer;\n",
              "      display: none;\n",
              "      fill: #1967D2;\n",
              "      height: 32px;\n",
              "      padding: 0 0 0 0;\n",
              "      width: 32px;\n",
              "    }\n",
              "\n",
              "    .colab-df-convert:hover {\n",
              "      background-color: #E2EBFA;\n",
              "      box-shadow: 0px 1px 2px rgba(60, 64, 67, 0.3), 0px 1px 3px 1px rgba(60, 64, 67, 0.15);\n",
              "      fill: #174EA6;\n",
              "    }\n",
              "\n",
              "    .colab-df-buttons div {\n",
              "      margin-bottom: 4px;\n",
              "    }\n",
              "\n",
              "    [theme=dark] .colab-df-convert {\n",
              "      background-color: #3B4455;\n",
              "      fill: #D2E3FC;\n",
              "    }\n",
              "\n",
              "    [theme=dark] .colab-df-convert:hover {\n",
              "      background-color: #434B5C;\n",
              "      box-shadow: 0px 1px 3px 1px rgba(0, 0, 0, 0.15);\n",
              "      filter: drop-shadow(0px 1px 2px rgba(0, 0, 0, 0.3));\n",
              "      fill: #FFFFFF;\n",
              "    }\n",
              "  </style>\n",
              "\n",
              "    <script>\n",
              "      const buttonEl =\n",
              "        document.querySelector('#df-24108d46-1d28-4bff-a031-bbe00e566db8 button.colab-df-convert');\n",
              "      buttonEl.style.display =\n",
              "        google.colab.kernel.accessAllowed ? 'block' : 'none';\n",
              "\n",
              "      async function convertToInteractive(key) {\n",
              "        const element = document.querySelector('#df-24108d46-1d28-4bff-a031-bbe00e566db8');\n",
              "        const dataTable =\n",
              "          await google.colab.kernel.invokeFunction('convertToInteractive',\n",
              "                                                    [key], {});\n",
              "        if (!dataTable) return;\n",
              "\n",
              "        const docLinkHtml = 'Like what you see? Visit the ' +\n",
              "          '<a target=\"_blank\" href=https://colab.research.google.com/notebooks/data_table.ipynb>data table notebook</a>'\n",
              "          + ' to learn more about interactive tables.';\n",
              "        element.innerHTML = '';\n",
              "        dataTable['output_type'] = 'display_data';\n",
              "        await google.colab.output.renderOutput(dataTable, element);\n",
              "        const docLink = document.createElement('div');\n",
              "        docLink.innerHTML = docLinkHtml;\n",
              "        element.appendChild(docLink);\n",
              "      }\n",
              "    </script>\n",
              "  </div>\n",
              "\n",
              "\n",
              "<div id=\"df-03aae6fe-55c8-493f-b279-34c32aac662f\">\n",
              "  <button class=\"colab-df-quickchart\" onclick=\"quickchart('df-03aae6fe-55c8-493f-b279-34c32aac662f')\"\n",
              "            title=\"Suggest charts\"\n",
              "            style=\"display:none;\">\n",
              "\n",
              "<svg xmlns=\"http://www.w3.org/2000/svg\" height=\"24px\"viewBox=\"0 0 24 24\"\n",
              "     width=\"24px\">\n",
              "    <g>\n",
              "        <path d=\"M19 3H5c-1.1 0-2 .9-2 2v14c0 1.1.9 2 2 2h14c1.1 0 2-.9 2-2V5c0-1.1-.9-2-2-2zM9 17H7v-7h2v7zm4 0h-2V7h2v10zm4 0h-2v-4h2v4z\"/>\n",
              "    </g>\n",
              "</svg>\n",
              "  </button>\n",
              "\n",
              "<style>\n",
              "  .colab-df-quickchart {\n",
              "      --bg-color: #E8F0FE;\n",
              "      --fill-color: #1967D2;\n",
              "      --hover-bg-color: #E2EBFA;\n",
              "      --hover-fill-color: #174EA6;\n",
              "      --disabled-fill-color: #AAA;\n",
              "      --disabled-bg-color: #DDD;\n",
              "  }\n",
              "\n",
              "  [theme=dark] .colab-df-quickchart {\n",
              "      --bg-color: #3B4455;\n",
              "      --fill-color: #D2E3FC;\n",
              "      --hover-bg-color: #434B5C;\n",
              "      --hover-fill-color: #FFFFFF;\n",
              "      --disabled-bg-color: #3B4455;\n",
              "      --disabled-fill-color: #666;\n",
              "  }\n",
              "\n",
              "  .colab-df-quickchart {\n",
              "    background-color: var(--bg-color);\n",
              "    border: none;\n",
              "    border-radius: 50%;\n",
              "    cursor: pointer;\n",
              "    display: none;\n",
              "    fill: var(--fill-color);\n",
              "    height: 32px;\n",
              "    padding: 0;\n",
              "    width: 32px;\n",
              "  }\n",
              "\n",
              "  .colab-df-quickchart:hover {\n",
              "    background-color: var(--hover-bg-color);\n",
              "    box-shadow: 0 1px 2px rgba(60, 64, 67, 0.3), 0 1px 3px 1px rgba(60, 64, 67, 0.15);\n",
              "    fill: var(--button-hover-fill-color);\n",
              "  }\n",
              "\n",
              "  .colab-df-quickchart-complete:disabled,\n",
              "  .colab-df-quickchart-complete:disabled:hover {\n",
              "    background-color: var(--disabled-bg-color);\n",
              "    fill: var(--disabled-fill-color);\n",
              "    box-shadow: none;\n",
              "  }\n",
              "\n",
              "  .colab-df-spinner {\n",
              "    border: 2px solid var(--fill-color);\n",
              "    border-color: transparent;\n",
              "    border-bottom-color: var(--fill-color);\n",
              "    animation:\n",
              "      spin 1s steps(1) infinite;\n",
              "  }\n",
              "\n",
              "  @keyframes spin {\n",
              "    0% {\n",
              "      border-color: transparent;\n",
              "      border-bottom-color: var(--fill-color);\n",
              "      border-left-color: var(--fill-color);\n",
              "    }\n",
              "    20% {\n",
              "      border-color: transparent;\n",
              "      border-left-color: var(--fill-color);\n",
              "      border-top-color: var(--fill-color);\n",
              "    }\n",
              "    30% {\n",
              "      border-color: transparent;\n",
              "      border-left-color: var(--fill-color);\n",
              "      border-top-color: var(--fill-color);\n",
              "      border-right-color: var(--fill-color);\n",
              "    }\n",
              "    40% {\n",
              "      border-color: transparent;\n",
              "      border-right-color: var(--fill-color);\n",
              "      border-top-color: var(--fill-color);\n",
              "    }\n",
              "    60% {\n",
              "      border-color: transparent;\n",
              "      border-right-color: var(--fill-color);\n",
              "    }\n",
              "    80% {\n",
              "      border-color: transparent;\n",
              "      border-right-color: var(--fill-color);\n",
              "      border-bottom-color: var(--fill-color);\n",
              "    }\n",
              "    90% {\n",
              "      border-color: transparent;\n",
              "      border-bottom-color: var(--fill-color);\n",
              "    }\n",
              "  }\n",
              "</style>\n",
              "\n",
              "  <script>\n",
              "    async function quickchart(key) {\n",
              "      const quickchartButtonEl =\n",
              "        document.querySelector('#' + key + ' button');\n",
              "      quickchartButtonEl.disabled = true;  // To prevent multiple clicks.\n",
              "      quickchartButtonEl.classList.add('colab-df-spinner');\n",
              "      try {\n",
              "        const charts = await google.colab.kernel.invokeFunction(\n",
              "            'suggestCharts', [key], {});\n",
              "      } catch (error) {\n",
              "        console.error('Error during call to suggestCharts:', error);\n",
              "      }\n",
              "      quickchartButtonEl.classList.remove('colab-df-spinner');\n",
              "      quickchartButtonEl.classList.add('colab-df-quickchart-complete');\n",
              "    }\n",
              "    (() => {\n",
              "      let quickchartButtonEl =\n",
              "        document.querySelector('#df-03aae6fe-55c8-493f-b279-34c32aac662f button');\n",
              "      quickchartButtonEl.style.display =\n",
              "        google.colab.kernel.accessAllowed ? 'block' : 'none';\n",
              "    })();\n",
              "  </script>\n",
              "</div>\n",
              "\n",
              "    </div>\n",
              "  </div>\n"
            ]
          },
          "metadata": {},
          "execution_count": 474
        }
      ]
    },
    {
      "cell_type": "code",
      "source": [
        "test_features.describe()"
      ],
      "metadata": {
        "colab": {
          "base_uri": "https://localhost:8080/",
          "height": 320
        },
        "id": "VckGZ-0uFjK5",
        "outputId": "3912657b-537a-4029-f50f-e429b05484f1"
      },
      "execution_count": 475,
      "outputs": [
        {
          "output_type": "execute_result",
          "data": {
            "text/plain": [
              "       LIVING_SQFT   FBSMT_SQFT    BSMT_AREA     LAND_SQFT     GRD_AREA  \\\n",
              "count  4964.000000  4964.000000  4964.000000   4964.000000  4964.000000   \n",
              "mean   1452.580782   313.368856   448.121273   3948.503022    21.109186   \n",
              "std     718.058169   455.488958   548.675617   3444.968966   121.561303   \n",
              "min     283.000000     0.000000     0.000000      0.000000     0.000000   \n",
              "25%     944.000000     0.000000     0.000000      0.000000     0.000000   \n",
              "50%    1261.000000     0.000000     0.000000   3723.000000     0.000000   \n",
              "75%    1755.250000   688.250000   881.250000   6250.000000     0.000000   \n",
              "max    5535.000000  2348.000000  3216.000000  29079.000000  1959.000000   \n",
              "\n",
              "          BLDG_AGE       RM_AGE      BED_RMS       FULL_B        HLF_B  \\\n",
              "count  4964.000000  4964.000000  4964.000000  4964.000000  4964.000000   \n",
              "mean     46.496575     3.118654     2.455479     2.060838     0.413981   \n",
              "std      38.301694     6.427561     0.905928     0.876821     0.538329   \n",
              "min       0.000000     0.000000     0.000000     1.000000     0.000000   \n",
              "25%       9.000000     0.000000     2.000000     1.000000     0.000000   \n",
              "50%      47.000000     0.000000     2.000000     2.000000     0.000000   \n",
              "75%      70.000000     3.000000     3.000000     3.000000     1.000000   \n",
              "max     139.000000    77.000000     7.000000     7.000000     3.000000   \n",
              "\n",
              "             STORY        UNITS  \n",
              "count  4964.000000  4964.000000  \n",
              "mean      1.476531     1.019541  \n",
              "std       0.643167     0.167417  \n",
              "min       1.000000     1.000000  \n",
              "25%       1.000000     1.000000  \n",
              "50%       1.000000     1.000000  \n",
              "75%       2.000000     1.000000  \n",
              "max       4.000000     5.000000  "
            ],
            "text/html": [
              "\n",
              "  <div id=\"df-e3ffe732-b9d6-4bbb-890b-5f9aee3414d7\" class=\"colab-df-container\">\n",
              "    <div>\n",
              "<style scoped>\n",
              "    .dataframe tbody tr th:only-of-type {\n",
              "        vertical-align: middle;\n",
              "    }\n",
              "\n",
              "    .dataframe tbody tr th {\n",
              "        vertical-align: top;\n",
              "    }\n",
              "\n",
              "    .dataframe thead th {\n",
              "        text-align: right;\n",
              "    }\n",
              "</style>\n",
              "<table border=\"1\" class=\"dataframe\">\n",
              "  <thead>\n",
              "    <tr style=\"text-align: right;\">\n",
              "      <th></th>\n",
              "      <th>LIVING_SQFT</th>\n",
              "      <th>FBSMT_SQFT</th>\n",
              "      <th>BSMT_AREA</th>\n",
              "      <th>LAND_SQFT</th>\n",
              "      <th>GRD_AREA</th>\n",
              "      <th>BLDG_AGE</th>\n",
              "      <th>RM_AGE</th>\n",
              "      <th>BED_RMS</th>\n",
              "      <th>FULL_B</th>\n",
              "      <th>HLF_B</th>\n",
              "      <th>STORY</th>\n",
              "      <th>UNITS</th>\n",
              "    </tr>\n",
              "  </thead>\n",
              "  <tbody>\n",
              "    <tr>\n",
              "      <th>count</th>\n",
              "      <td>4964.000000</td>\n",
              "      <td>4964.000000</td>\n",
              "      <td>4964.000000</td>\n",
              "      <td>4964.000000</td>\n",
              "      <td>4964.000000</td>\n",
              "      <td>4964.000000</td>\n",
              "      <td>4964.000000</td>\n",
              "      <td>4964.000000</td>\n",
              "      <td>4964.000000</td>\n",
              "      <td>4964.000000</td>\n",
              "      <td>4964.000000</td>\n",
              "      <td>4964.000000</td>\n",
              "    </tr>\n",
              "    <tr>\n",
              "      <th>mean</th>\n",
              "      <td>1452.580782</td>\n",
              "      <td>313.368856</td>\n",
              "      <td>448.121273</td>\n",
              "      <td>3948.503022</td>\n",
              "      <td>21.109186</td>\n",
              "      <td>46.496575</td>\n",
              "      <td>3.118654</td>\n",
              "      <td>2.455479</td>\n",
              "      <td>2.060838</td>\n",
              "      <td>0.413981</td>\n",
              "      <td>1.476531</td>\n",
              "      <td>1.019541</td>\n",
              "    </tr>\n",
              "    <tr>\n",
              "      <th>std</th>\n",
              "      <td>718.058169</td>\n",
              "      <td>455.488958</td>\n",
              "      <td>548.675617</td>\n",
              "      <td>3444.968966</td>\n",
              "      <td>121.561303</td>\n",
              "      <td>38.301694</td>\n",
              "      <td>6.427561</td>\n",
              "      <td>0.905928</td>\n",
              "      <td>0.876821</td>\n",
              "      <td>0.538329</td>\n",
              "      <td>0.643167</td>\n",
              "      <td>0.167417</td>\n",
              "    </tr>\n",
              "    <tr>\n",
              "      <th>min</th>\n",
              "      <td>283.000000</td>\n",
              "      <td>0.000000</td>\n",
              "      <td>0.000000</td>\n",
              "      <td>0.000000</td>\n",
              "      <td>0.000000</td>\n",
              "      <td>0.000000</td>\n",
              "      <td>0.000000</td>\n",
              "      <td>0.000000</td>\n",
              "      <td>1.000000</td>\n",
              "      <td>0.000000</td>\n",
              "      <td>1.000000</td>\n",
              "      <td>1.000000</td>\n",
              "    </tr>\n",
              "    <tr>\n",
              "      <th>25%</th>\n",
              "      <td>944.000000</td>\n",
              "      <td>0.000000</td>\n",
              "      <td>0.000000</td>\n",
              "      <td>0.000000</td>\n",
              "      <td>0.000000</td>\n",
              "      <td>9.000000</td>\n",
              "      <td>0.000000</td>\n",
              "      <td>2.000000</td>\n",
              "      <td>1.000000</td>\n",
              "      <td>0.000000</td>\n",
              "      <td>1.000000</td>\n",
              "      <td>1.000000</td>\n",
              "    </tr>\n",
              "    <tr>\n",
              "      <th>50%</th>\n",
              "      <td>1261.000000</td>\n",
              "      <td>0.000000</td>\n",
              "      <td>0.000000</td>\n",
              "      <td>3723.000000</td>\n",
              "      <td>0.000000</td>\n",
              "      <td>47.000000</td>\n",
              "      <td>0.000000</td>\n",
              "      <td>2.000000</td>\n",
              "      <td>2.000000</td>\n",
              "      <td>0.000000</td>\n",
              "      <td>1.000000</td>\n",
              "      <td>1.000000</td>\n",
              "    </tr>\n",
              "    <tr>\n",
              "      <th>75%</th>\n",
              "      <td>1755.250000</td>\n",
              "      <td>688.250000</td>\n",
              "      <td>881.250000</td>\n",
              "      <td>6250.000000</td>\n",
              "      <td>0.000000</td>\n",
              "      <td>70.000000</td>\n",
              "      <td>3.000000</td>\n",
              "      <td>3.000000</td>\n",
              "      <td>3.000000</td>\n",
              "      <td>1.000000</td>\n",
              "      <td>2.000000</td>\n",
              "      <td>1.000000</td>\n",
              "    </tr>\n",
              "    <tr>\n",
              "      <th>max</th>\n",
              "      <td>5535.000000</td>\n",
              "      <td>2348.000000</td>\n",
              "      <td>3216.000000</td>\n",
              "      <td>29079.000000</td>\n",
              "      <td>1959.000000</td>\n",
              "      <td>139.000000</td>\n",
              "      <td>77.000000</td>\n",
              "      <td>7.000000</td>\n",
              "      <td>7.000000</td>\n",
              "      <td>3.000000</td>\n",
              "      <td>4.000000</td>\n",
              "      <td>5.000000</td>\n",
              "    </tr>\n",
              "  </tbody>\n",
              "</table>\n",
              "</div>\n",
              "    <div class=\"colab-df-buttons\">\n",
              "\n",
              "  <div class=\"colab-df-container\">\n",
              "    <button class=\"colab-df-convert\" onclick=\"convertToInteractive('df-e3ffe732-b9d6-4bbb-890b-5f9aee3414d7')\"\n",
              "            title=\"Convert this dataframe to an interactive table.\"\n",
              "            style=\"display:none;\">\n",
              "\n",
              "  <svg xmlns=\"http://www.w3.org/2000/svg\" height=\"24px\" viewBox=\"0 -960 960 960\">\n",
              "    <path d=\"M120-120v-720h720v720H120Zm60-500h600v-160H180v160Zm220 220h160v-160H400v160Zm0 220h160v-160H400v160ZM180-400h160v-160H180v160Zm440 0h160v-160H620v160ZM180-180h160v-160H180v160Zm440 0h160v-160H620v160Z\"/>\n",
              "  </svg>\n",
              "    </button>\n",
              "\n",
              "  <style>\n",
              "    .colab-df-container {\n",
              "      display:flex;\n",
              "      gap: 12px;\n",
              "    }\n",
              "\n",
              "    .colab-df-convert {\n",
              "      background-color: #E8F0FE;\n",
              "      border: none;\n",
              "      border-radius: 50%;\n",
              "      cursor: pointer;\n",
              "      display: none;\n",
              "      fill: #1967D2;\n",
              "      height: 32px;\n",
              "      padding: 0 0 0 0;\n",
              "      width: 32px;\n",
              "    }\n",
              "\n",
              "    .colab-df-convert:hover {\n",
              "      background-color: #E2EBFA;\n",
              "      box-shadow: 0px 1px 2px rgba(60, 64, 67, 0.3), 0px 1px 3px 1px rgba(60, 64, 67, 0.15);\n",
              "      fill: #174EA6;\n",
              "    }\n",
              "\n",
              "    .colab-df-buttons div {\n",
              "      margin-bottom: 4px;\n",
              "    }\n",
              "\n",
              "    [theme=dark] .colab-df-convert {\n",
              "      background-color: #3B4455;\n",
              "      fill: #D2E3FC;\n",
              "    }\n",
              "\n",
              "    [theme=dark] .colab-df-convert:hover {\n",
              "      background-color: #434B5C;\n",
              "      box-shadow: 0px 1px 3px 1px rgba(0, 0, 0, 0.15);\n",
              "      filter: drop-shadow(0px 1px 2px rgba(0, 0, 0, 0.3));\n",
              "      fill: #FFFFFF;\n",
              "    }\n",
              "  </style>\n",
              "\n",
              "    <script>\n",
              "      const buttonEl =\n",
              "        document.querySelector('#df-e3ffe732-b9d6-4bbb-890b-5f9aee3414d7 button.colab-df-convert');\n",
              "      buttonEl.style.display =\n",
              "        google.colab.kernel.accessAllowed ? 'block' : 'none';\n",
              "\n",
              "      async function convertToInteractive(key) {\n",
              "        const element = document.querySelector('#df-e3ffe732-b9d6-4bbb-890b-5f9aee3414d7');\n",
              "        const dataTable =\n",
              "          await google.colab.kernel.invokeFunction('convertToInteractive',\n",
              "                                                    [key], {});\n",
              "        if (!dataTable) return;\n",
              "\n",
              "        const docLinkHtml = 'Like what you see? Visit the ' +\n",
              "          '<a target=\"_blank\" href=https://colab.research.google.com/notebooks/data_table.ipynb>data table notebook</a>'\n",
              "          + ' to learn more about interactive tables.';\n",
              "        element.innerHTML = '';\n",
              "        dataTable['output_type'] = 'display_data';\n",
              "        await google.colab.output.renderOutput(dataTable, element);\n",
              "        const docLink = document.createElement('div');\n",
              "        docLink.innerHTML = docLinkHtml;\n",
              "        element.appendChild(docLink);\n",
              "      }\n",
              "    </script>\n",
              "  </div>\n",
              "\n",
              "\n",
              "<div id=\"df-891d5103-be7d-4319-985f-8c69b2de0093\">\n",
              "  <button class=\"colab-df-quickchart\" onclick=\"quickchart('df-891d5103-be7d-4319-985f-8c69b2de0093')\"\n",
              "            title=\"Suggest charts\"\n",
              "            style=\"display:none;\">\n",
              "\n",
              "<svg xmlns=\"http://www.w3.org/2000/svg\" height=\"24px\"viewBox=\"0 0 24 24\"\n",
              "     width=\"24px\">\n",
              "    <g>\n",
              "        <path d=\"M19 3H5c-1.1 0-2 .9-2 2v14c0 1.1.9 2 2 2h14c1.1 0 2-.9 2-2V5c0-1.1-.9-2-2-2zM9 17H7v-7h2v7zm4 0h-2V7h2v10zm4 0h-2v-4h2v4z\"/>\n",
              "    </g>\n",
              "</svg>\n",
              "  </button>\n",
              "\n",
              "<style>\n",
              "  .colab-df-quickchart {\n",
              "      --bg-color: #E8F0FE;\n",
              "      --fill-color: #1967D2;\n",
              "      --hover-bg-color: #E2EBFA;\n",
              "      --hover-fill-color: #174EA6;\n",
              "      --disabled-fill-color: #AAA;\n",
              "      --disabled-bg-color: #DDD;\n",
              "  }\n",
              "\n",
              "  [theme=dark] .colab-df-quickchart {\n",
              "      --bg-color: #3B4455;\n",
              "      --fill-color: #D2E3FC;\n",
              "      --hover-bg-color: #434B5C;\n",
              "      --hover-fill-color: #FFFFFF;\n",
              "      --disabled-bg-color: #3B4455;\n",
              "      --disabled-fill-color: #666;\n",
              "  }\n",
              "\n",
              "  .colab-df-quickchart {\n",
              "    background-color: var(--bg-color);\n",
              "    border: none;\n",
              "    border-radius: 50%;\n",
              "    cursor: pointer;\n",
              "    display: none;\n",
              "    fill: var(--fill-color);\n",
              "    height: 32px;\n",
              "    padding: 0;\n",
              "    width: 32px;\n",
              "  }\n",
              "\n",
              "  .colab-df-quickchart:hover {\n",
              "    background-color: var(--hover-bg-color);\n",
              "    box-shadow: 0 1px 2px rgba(60, 64, 67, 0.3), 0 1px 3px 1px rgba(60, 64, 67, 0.15);\n",
              "    fill: var(--button-hover-fill-color);\n",
              "  }\n",
              "\n",
              "  .colab-df-quickchart-complete:disabled,\n",
              "  .colab-df-quickchart-complete:disabled:hover {\n",
              "    background-color: var(--disabled-bg-color);\n",
              "    fill: var(--disabled-fill-color);\n",
              "    box-shadow: none;\n",
              "  }\n",
              "\n",
              "  .colab-df-spinner {\n",
              "    border: 2px solid var(--fill-color);\n",
              "    border-color: transparent;\n",
              "    border-bottom-color: var(--fill-color);\n",
              "    animation:\n",
              "      spin 1s steps(1) infinite;\n",
              "  }\n",
              "\n",
              "  @keyframes spin {\n",
              "    0% {\n",
              "      border-color: transparent;\n",
              "      border-bottom-color: var(--fill-color);\n",
              "      border-left-color: var(--fill-color);\n",
              "    }\n",
              "    20% {\n",
              "      border-color: transparent;\n",
              "      border-left-color: var(--fill-color);\n",
              "      border-top-color: var(--fill-color);\n",
              "    }\n",
              "    30% {\n",
              "      border-color: transparent;\n",
              "      border-left-color: var(--fill-color);\n",
              "      border-top-color: var(--fill-color);\n",
              "      border-right-color: var(--fill-color);\n",
              "    }\n",
              "    40% {\n",
              "      border-color: transparent;\n",
              "      border-right-color: var(--fill-color);\n",
              "      border-top-color: var(--fill-color);\n",
              "    }\n",
              "    60% {\n",
              "      border-color: transparent;\n",
              "      border-right-color: var(--fill-color);\n",
              "    }\n",
              "    80% {\n",
              "      border-color: transparent;\n",
              "      border-right-color: var(--fill-color);\n",
              "      border-bottom-color: var(--fill-color);\n",
              "    }\n",
              "    90% {\n",
              "      border-color: transparent;\n",
              "      border-bottom-color: var(--fill-color);\n",
              "    }\n",
              "  }\n",
              "</style>\n",
              "\n",
              "  <script>\n",
              "    async function quickchart(key) {\n",
              "      const quickchartButtonEl =\n",
              "        document.querySelector('#' + key + ' button');\n",
              "      quickchartButtonEl.disabled = true;  // To prevent multiple clicks.\n",
              "      quickchartButtonEl.classList.add('colab-df-spinner');\n",
              "      try {\n",
              "        const charts = await google.colab.kernel.invokeFunction(\n",
              "            'suggestCharts', [key], {});\n",
              "      } catch (error) {\n",
              "        console.error('Error during call to suggestCharts:', error);\n",
              "      }\n",
              "      quickchartButtonEl.classList.remove('colab-df-spinner');\n",
              "      quickchartButtonEl.classList.add('colab-df-quickchart-complete');\n",
              "    }\n",
              "    (() => {\n",
              "      let quickchartButtonEl =\n",
              "        document.querySelector('#df-891d5103-be7d-4319-985f-8c69b2de0093 button');\n",
              "      quickchartButtonEl.style.display =\n",
              "        google.colab.kernel.accessAllowed ? 'block' : 'none';\n",
              "    })();\n",
              "  </script>\n",
              "</div>\n",
              "\n",
              "    </div>\n",
              "  </div>\n"
            ]
          },
          "metadata": {},
          "execution_count": 475
        }
      ]
    },
    {
      "cell_type": "code",
      "source": [
        "## train data normalization\n",
        "#mean = train_features.mean()\n",
        "#std = train_features.std()\n",
        "#train_features = (train_features - mean) / std"
      ],
      "metadata": {
        "id": "tKsRrk_BiOdp"
      },
      "execution_count": 476,
      "outputs": []
    },
    {
      "cell_type": "code",
      "source": [
        "## test data normalization\n",
        "#mean = test_features.mean()\n",
        "#std = test_features.std()\n",
        "#test_features = (test_features - mean) / std"
      ],
      "metadata": {
        "id": "p77yt5SgjDud"
      },
      "execution_count": 477,
      "outputs": []
    },
    {
      "cell_type": "code",
      "source": [
        "from sklearn.preprocessing import StandardScaler\n",
        "scaler = StandardScaler()\n",
        "\n",
        "# Fit the scaler on the training data and transform both training and test data\n",
        "train_features = scaler.fit_transform(train_features)\n",
        "test_features = scaler.transform(test_features)"
      ],
      "metadata": {
        "id": "J_dTz1tzSS81"
      },
      "execution_count": 478,
      "outputs": []
    },
    {
      "cell_type": "markdown",
      "source": [
        "Finally, we convert features and labels to PyTorch tensors."
      ],
      "metadata": {
        "id": "7nclPlDEBtMD"
      }
    },
    {
      "cell_type": "code",
      "source": [
        "import torch\n",
        "import numpy as np\n",
        "\n",
        "# Convert training features and labels to PyTorch tensors\n",
        "#train_features = torch.tensor(train_features.values.astype(np.float32), dtype=torch.float32)\n",
        "#test_features = torch.tensor(test_features.values.astype(np.float32), dtype=torch.float32)\n",
        "#train_labels = torch.tensor(train_labels.values.reshape(-1, 1).astype(np.float32), dtype=torch.float32)\n",
        "train_features = torch.tensor(train_features.tolist(), dtype=torch.float32)\n",
        "test_features = torch.tensor(test_features.tolist(), dtype=torch.float32)\n",
        "train_labels = torch.tensor(train_labels.values.reshape(-1, 1).astype(np.float32), dtype=torch.float32)\n"
      ],
      "metadata": {
        "id": "XcjojyA1r6g1"
      },
      "execution_count": 479,
      "outputs": []
    },
    {
      "cell_type": "markdown",
      "source": [
        "---\n",
        "## DataLoaders and Batching\n",
        "\n",
        "After creating training, test, and validation data, we can create DataLoaders for this data by following two steps:\n",
        "1. Create a known format for accessing our data, using [TensorDataset](https://pytorch.org/docs/stable/data.html#torch.utils.data.TensorDataset) which takes in an input set of data and a target set of data with the same first dimension, and creates a dataset.\n",
        "2. Create DataLoaders and batch our training, validation, and test Tensor datasets. Note that we will shuffle the train data, so the model will not learn a particular order. For test data, we do not shuffle."
      ],
      "metadata": {
        "id": "GpfNC1455HYf"
      }
    },
    {
      "cell_type": "code",
      "source": [
        "np.random.seed(10)"
      ],
      "metadata": {
        "id": "SQbju25WznFt"
      },
      "execution_count": 480,
      "outputs": []
    },
    {
      "cell_type": "code",
      "source": [
        "from torch.utils.data import TensorDataset, DataLoader\n",
        "#  Create DataLoaders and batch our train data\n",
        "train_data = TensorDataset(train_features, train_labels)\n",
        "train_loader = DataLoader(train_data, batch_size=128, shuffle=True)"
      ],
      "metadata": {
        "id": "iFnex-AG5hu6"
      },
      "execution_count": 481,
      "outputs": []
    },
    {
      "cell_type": "code",
      "source": [
        "#TODO: Create DataLoaders and batch for test data\n",
        "#test_data = TensorDataset(test_features, test_labels)\n",
        "test_loader = DataLoader(test_features, batch_size =64, shuffle=False)"
      ],
      "metadata": {
        "id": "sL-N-Sr5AGey"
      },
      "execution_count": 482,
      "outputs": []
    },
    {
      "cell_type": "markdown",
      "source": [
        "Let's take a batch to have a sanity check"
      ],
      "metadata": {
        "id": "IdAZUijCBb2U"
      }
    },
    {
      "cell_type": "code",
      "source": [
        "# obtain one batch of training data\n",
        "dataiter = iter(train_loader)\n",
        "features, labels = next(dataiter)\n",
        "\n",
        "print('Sample input size: ', features.size()) # batch_size, seq_length\n",
        "print('Sample input: \\n', features)\n",
        "print()\n",
        "print('Sample label size: ', labels.size()) # batch_size\n",
        "print('Sample label: \\n', labels)"
      ],
      "metadata": {
        "id": "qEyW4FHfC-gc",
        "colab": {
          "base_uri": "https://localhost:8080/"
        },
        "outputId": "cbfc7cd7-3634-4925-ba3d-e6d69b8d0a88"
      },
      "execution_count": 483,
      "outputs": [
        {
          "output_type": "stream",
          "name": "stdout",
          "text": [
            "Sample input size:  torch.Size([128, 12])\n",
            "Sample input: \n",
            " tensor([[-0.1105, -0.6939, -0.8259,  ..., -0.7781,  2.3344, -0.1039],\n",
            "        [-0.3688, -0.6939, -0.8259,  ...,  1.0718,  0.7900, -0.1039],\n",
            "        [-0.3773,  1.6907,  1.3126,  ...,  1.0718, -0.7545, -0.1039],\n",
            "        ...,\n",
            "        [ 0.7830, -0.6939, -0.8259,  ...,  1.0718,  0.7900, -0.1039],\n",
            "        [ 0.0151, -0.6939, -0.8259,  ..., -0.7781,  1.5622, -0.1039],\n",
            "        [-1.0266, -0.6939, -0.8259,  ..., -0.7781, -0.7545, -0.1039]])\n",
            "\n",
            "Sample label size:  torch.Size([128, 1])\n",
            "Sample label: \n",
            " tensor([[ 5.5000],\n",
            "        [ 3.2000],\n",
            "        [ 4.2000],\n",
            "        [ 2.9700],\n",
            "        [ 4.2500],\n",
            "        [ 5.2500],\n",
            "        [ 6.0500],\n",
            "        [ 4.2500],\n",
            "        [ 2.3990],\n",
            "        [ 9.6000],\n",
            "        [ 1.6000],\n",
            "        [ 3.7500],\n",
            "        [ 9.5000],\n",
            "        [ 2.7500],\n",
            "        [ 1.5000],\n",
            "        [ 3.7100],\n",
            "        [ 8.6500],\n",
            "        [ 1.6900],\n",
            "        [ 3.3000],\n",
            "        [ 1.7200],\n",
            "        [ 3.5500],\n",
            "        [ 7.0000],\n",
            "        [ 3.0500],\n",
            "        [ 4.1100],\n",
            "        [ 3.5000],\n",
            "        [ 3.8325],\n",
            "        [ 4.4500],\n",
            "        [ 2.5550],\n",
            "        [ 2.9500],\n",
            "        [ 3.7000],\n",
            "        [12.6500],\n",
            "        [ 7.5000],\n",
            "        [ 5.6800],\n",
            "        [ 5.9500],\n",
            "        [ 2.5500],\n",
            "        [ 4.8805],\n",
            "        [ 4.7500],\n",
            "        [ 5.2000],\n",
            "        [ 6.8000],\n",
            "        [ 2.3190],\n",
            "        [ 3.4000],\n",
            "        [ 6.2500],\n",
            "        [ 3.3000],\n",
            "        [ 5.9000],\n",
            "        [ 4.6000],\n",
            "        [ 3.3450],\n",
            "        [ 2.3500],\n",
            "        [ 3.0100],\n",
            "        [ 8.7750],\n",
            "        [ 5.8500],\n",
            "        [ 3.0900],\n",
            "        [ 6.3290],\n",
            "        [ 4.0000],\n",
            "        [ 2.3500],\n",
            "        [ 4.8000],\n",
            "        [ 3.0000],\n",
            "        [ 4.3250],\n",
            "        [ 6.5000],\n",
            "        [ 4.9900],\n",
            "        [ 9.2500],\n",
            "        [ 8.2500],\n",
            "        [ 8.0850],\n",
            "        [ 1.6000],\n",
            "        [ 5.2500],\n",
            "        [ 3.8750],\n",
            "        [ 7.0510],\n",
            "        [ 6.5000],\n",
            "        [ 5.3990],\n",
            "        [ 1.8700],\n",
            "        [ 5.8900],\n",
            "        [ 2.0500],\n",
            "        [ 4.1500],\n",
            "        [ 5.0000],\n",
            "        [ 4.7500],\n",
            "        [ 2.3000],\n",
            "        [ 2.8990],\n",
            "        [ 2.8000],\n",
            "        [ 2.3000],\n",
            "        [ 4.3800],\n",
            "        [ 4.2500],\n",
            "        [11.5600],\n",
            "        [ 3.7500],\n",
            "        [ 4.6800],\n",
            "        [ 3.8000],\n",
            "        [ 2.9999],\n",
            "        [ 2.7500],\n",
            "        [ 3.0120],\n",
            "        [10.3000],\n",
            "        [ 3.4700],\n",
            "        [ 3.4700],\n",
            "        [ 7.7500],\n",
            "        [ 5.4300],\n",
            "        [ 1.5500],\n",
            "        [ 4.2100],\n",
            "        [ 4.3000],\n",
            "        [ 1.9000],\n",
            "        [ 8.9900],\n",
            "        [ 5.4500],\n",
            "        [ 5.2500],\n",
            "        [ 3.1497],\n",
            "        [ 3.7500],\n",
            "        [ 3.6035],\n",
            "        [ 3.4950],\n",
            "        [ 3.2300],\n",
            "        [ 6.3211],\n",
            "        [ 6.3300],\n",
            "        [ 6.0000],\n",
            "        [17.2000],\n",
            "        [ 6.7500],\n",
            "        [ 3.3180],\n",
            "        [ 2.8500],\n",
            "        [ 1.0550],\n",
            "        [ 4.8458],\n",
            "        [ 5.0200],\n",
            "        [ 5.8750],\n",
            "        [14.3264],\n",
            "        [ 2.5000],\n",
            "        [ 1.7900],\n",
            "        [ 1.1310],\n",
            "        [ 1.4750],\n",
            "        [ 2.4000],\n",
            "        [ 3.4000],\n",
            "        [ 1.6200],\n",
            "        [ 2.1500],\n",
            "        [ 5.2699],\n",
            "        [ 3.4080],\n",
            "        [ 2.5369],\n",
            "        [ 2.5000]])\n"
          ]
        }
      ]
    },
    {
      "cell_type": "markdown",
      "source": [
        "---\n",
        "## Linear regression as benchmark\n",
        "\n",
        "Let us first build a linear regression model as a benchmark."
      ],
      "metadata": {
        "id": "BQ7a1MTxbK_T"
      }
    },
    {
      "cell_type": "code",
      "source": [
        "#TODO: Build a linear regression model network\n",
        "import torch.nn as nn\n",
        "lin_net = nn.Linear(12,1)\n"
      ],
      "metadata": {
        "id": "c-OjHSVBEP90"
      },
      "execution_count": 484,
      "outputs": []
    },
    {
      "cell_type": "markdown",
      "source": [
        "Let's take a batch and see the output"
      ],
      "metadata": {
        "id": "xkJ_Dr1Y3Vm9"
      }
    },
    {
      "cell_type": "code",
      "source": [
        "labels.shape"
      ],
      "metadata": {
        "colab": {
          "base_uri": "https://localhost:8080/"
        },
        "id": "aAagRQNVNQHx",
        "outputId": "0041702b-caec-40e1-d179-73469c53b795"
      },
      "execution_count": 485,
      "outputs": [
        {
          "output_type": "execute_result",
          "data": {
            "text/plain": [
              "torch.Size([128, 1])"
            ]
          },
          "metadata": {},
          "execution_count": 485
        }
      ]
    },
    {
      "cell_type": "code",
      "source": [
        "features, labels = next(dataiter)\n",
        "output=lin_net(features)\n",
        "output.shape,labels.shape"
      ],
      "metadata": {
        "id": "lDRr20263VEG",
        "colab": {
          "base_uri": "https://localhost:8080/"
        },
        "outputId": "6e681635-264a-4bbe-b804-c622dc2a0abd"
      },
      "execution_count": 486,
      "outputs": [
        {
          "output_type": "execute_result",
          "data": {
            "text/plain": [
              "(torch.Size([128, 1]), torch.Size([128, 1]))"
            ]
          },
          "metadata": {},
          "execution_count": 486
        }
      ]
    },
    {
      "cell_type": "markdown",
      "source": [
        "## Train the model"
      ],
      "metadata": {
        "id": "4gP6KXY_TAR3"
      }
    },
    {
      "cell_type": "markdown",
      "source": [
        "First, we will use GPU training if it is availabe."
      ],
      "metadata": {
        "id": "2EBhmGZh4Gt9"
      }
    },
    {
      "cell_type": "code",
      "source": [
        "#TODO: use GPU for training if it is availabe\n",
        "\n",
        "if torch.cuda.is_available():\n",
        "  device = torch.device('cuda')\n",
        "else:\n",
        "  device = torch.device('cpu')\n"
      ],
      "metadata": {
        "id": "CFheqQ4Q4L49"
      },
      "execution_count": 487,
      "outputs": []
    },
    {
      "cell_type": "markdown",
      "source": [
        "Second, let us specify the loss function."
      ],
      "metadata": {
        "id": "SKEzpB5F5FCa"
      }
    },
    {
      "cell_type": "code",
      "source": [
        "import torch\n",
        "import torch.nn as nn\n",
        "\n",
        "class MedianErrorRateLoss(nn.Module):\n",
        "    def __init__(self):\n",
        "        super(MedianErrorRateLoss, self).__init__()\n",
        "\n",
        "    def forward(self, predicted, actual):\n",
        "        # Calculate the absolute error for each prediction\n",
        "        absolute_error = torch.abs((predicted - actual)/actual)\n",
        "\n",
        "        # Calculate the error rate for each prediction\n",
        "        #error_rate = absolute_error / (actual + 1e-10)  # Avoid division by zero\n",
        "\n",
        "        # Calculate the median error rate\n",
        "        #sorted_error_rates, _ = torch.sort(error_rate)\n",
        "        #num_samples = error_rate.size(0)\n",
        "        #median_index = num_samples // 2\n",
        "        #median_error_rate = sorted_error_rates[median_index]\n",
        "\n",
        "        return absolute_error\n",
        "\n",
        "# Example usage:\n",
        "criterion = MedianErrorRateLoss()\n",
        "optimizer = torch.optim.SGD(lin_net.parameters(), lr = 0.003)"
      ],
      "metadata": {
        "id": "_rEH9aVe4_7E"
      },
      "execution_count": 488,
      "outputs": []
    },
    {
      "cell_type": "markdown",
      "source": [
        "We are now ready to train the network.\n",
        "\n",
        "\n",
        "Note that with house prices, as with stock prices, we care about relative quantities more than absolute quantities. Thus we tend to care more about the relative error than about the absolute error. For instance, if our prediction is off by \\\\$100,000 when estimating the sale price of a house which is \\\\$125,000, then we are probably doing a horrible job. On the other hand, if we err by this amount for a house with sale price \\\\$2 million, this might represent a pretty  accurate prediction.\n",
        "\n",
        "To this end, we will use the median error rate (MER) used by [Zestimate](https://www.zillow.com/z/zestimate/) to measure the predictive performance. The error rate is defined as\n",
        "$$\n",
        "\\text{Error Rate} = \\left| \\frac{\\text{Predicted Price}-\\text{Actual Price}}{\\text{Actual Price}} \\right|\n",
        "$$\n",
        "The median error rate is defined as the median of error rates for all properties."
      ],
      "metadata": {
        "id": "BFXI-u1qxePM"
      }
    },
    {
      "cell_type": "code",
      "source": [
        "#TODO: Write code to train the network\n",
        "epochs = 10\n",
        "train_losses_2 = []\n",
        "for i in range(epochs):\n",
        "  running_loss = 0\n",
        "  for train_features, train_lables in train_loader:\n",
        "    #train_data = torch.utils.data.to_tensor(train_data)\n",
        "    train_features = train_features.view(train_features.shape[0], -1)\n",
        "    train_labels = train_labels.reshape(-1)\n",
        "    train_data = train_features.to(device)\n",
        "    train_labels = train_labels.to(device)\n",
        "    lin_net = lin_net.to(device)\n",
        "    optimizer.zero_grad()\n",
        "    output = lin_net(train_data)\n",
        "    loss = criterion(output, train_labels)\n",
        "    loss = loss.mean()\n",
        "    loss.backward()\n",
        "    optimizer.step()\n",
        "    running_loss += loss.item()\n",
        "  else:\n",
        "        train_loss=running_loss/len(train_loader)\n",
        "        train_losses_2.append(train_loss)\n",
        "        print(f\"Training loss: {train_loss}\")\n"
      ],
      "metadata": {
        "id": "kUGatRu_DxzT",
        "colab": {
          "base_uri": "https://localhost:8080/"
        },
        "outputId": "01153279-dc26-43f7-d449-5f5e1f88e736"
      },
      "execution_count": 492,
      "outputs": [
        {
          "output_type": "stream",
          "name": "stdout",
          "text": [
            "Training loss: 0.5274667412370115\n",
            "Training loss: 0.5191635063716343\n",
            "Training loss: 0.5113824920339899\n",
            "Training loss: 0.5040028655267024\n",
            "Training loss: 0.49696104375870676\n",
            "Training loss: 0.4904143030826862\n",
            "Training loss: 0.48422875509157287\n",
            "Training loss: 0.4786135085991451\n",
            "Training loss: 0.47291778601132906\n",
            "Training loss: 0.4678143904759334\n"
          ]
        }
      ]
    },
    {
      "cell_type": "markdown",
      "source": [
        "Plot the training error (MER) over epochs"
      ],
      "metadata": {
        "id": "TpNjElY1D3xa"
      }
    },
    {
      "cell_type": "code",
      "source": [
        "#TODO: Write code to plot the training error (MER) over epochs\n",
        "import matplotlib.pyplot as plt\n",
        "plt.plot(train_losses_2, label='Train loss (lr=0.01)')"
      ],
      "metadata": {
        "id": "k9U1YyMmEV9s",
        "colab": {
          "base_uri": "https://localhost:8080/",
          "height": 456
        },
        "outputId": "ff450430-e9ae-405f-81ab-78b9fcf9d49b"
      },
      "execution_count": 493,
      "outputs": [
        {
          "output_type": "execute_result",
          "data": {
            "text/plain": [
              "[<matplotlib.lines.Line2D at 0x7d27ad406710>]"
            ]
          },
          "metadata": {},
          "execution_count": 493
        },
        {
          "output_type": "display_data",
          "data": {
            "text/plain": [
              "<Figure size 640x480 with 1 Axes>"
            ],
            "image/png": "[encoded data removed]"
          },
          "metadata": {}
        }
      ]
    },
    {
      "cell_type": "markdown",
      "source": [
        "---\n",
        "## Build the Multi-layer Perceptron Base Model"
      ],
      "metadata": {
        "id": "c2OHyGi23fKD"
      }
    },
    {
      "cell_type": "markdown",
      "source": [
        "In the following, we build a multi-layer perception model."
      ],
      "metadata": {
        "id": "ucgArogM4SJF"
      }
    },
    {
      "cell_type": "code",
      "source": [
        "#TODO: Build a multi-layer perception neural network with 2 hidden layers of sizes 256 and 128, respectively and ReLu activations\n",
        "MLP_net= nn.Sequential(nn.Linear(12, 256),\n",
        "                      nn.ReLU(),\n",
        "                      nn.Linear(256, 128),\n",
        "                      nn.ReLU(),\n",
        "                      nn.Linear(128, 1),\n",
        "                      )"
      ],
      "metadata": {
        "id": "TtyVuY9H3i-w"
      },
      "execution_count": 494,
      "outputs": []
    },
    {
      "cell_type": "code",
      "source": [
        "#TODO: write code to train the MLP network\n",
        "learning_rate = 0.01 # You can adjust this value\n",
        "optimizer = torch.optim.Adam(MLP_net.parameters(), lr=learning_rate)\n",
        "criterion = MedianErrorRateLoss()\n",
        "# Set your device (CPU or GPU)\n",
        "device = torch.device(\"cuda\" if torch.cuda.is_available() else \"cpu\")\n",
        "MLP_net = MLP_net.to(device)\n",
        "\n",
        "# Training loop\n",
        "epochs = 20\n",
        "train_losses_m = []\n",
        "for epoch in range(epochs):\n",
        "    running_loss = 0.0\n",
        "    for train_features, train_labels in train_loader:  # Assuming you have a DataLoader set up\n",
        "        train_features = train_features.view(train_features.shape[0], -1)\n",
        "        #train_labels = train_labels.view(-1)\n",
        "        train_features = train_features.to(device)\n",
        "        train_labels = train_labels.to(device)\n",
        "\n",
        "        optimizer.zero_grad()\n",
        "        output = MLP_net(train_features)\n",
        "        #output = output.to(torch.long)  # Convert the output to Long data type\n",
        "        loss = criterion(output, train_labels)\n",
        "        loss = loss.mean()\n",
        "        loss.backward()\n",
        "        optimizer.step()\n",
        "\n",
        "        running_loss += loss.item()\n",
        "\n",
        "    train_loss = running_loss / len(train_loader)\n",
        "    train_losses_m.append(train_loss)\n",
        "    print(f\"Epoch {epoch+1}/{epochs}, Training loss: {train_loss}\")"
      ],
      "metadata": {
        "id": "vXSQ6uOx3pLo",
        "colab": {
          "base_uri": "https://localhost:8080/"
        },
        "outputId": "76e45e10-6cca-4e3e-f8d2-1f414b8e13cc"
      },
      "execution_count": 495,
      "outputs": [
        {
          "output_type": "stream",
          "name": "stdout",
          "text": [
            "Epoch 1/20, Training loss: 0.2878689631655976\n",
            "Epoch 2/20, Training loss: 0.24279120417086633\n",
            "Epoch 3/20, Training loss: 0.22855514811945485\n",
            "Epoch 4/20, Training loss: 0.22745371978361528\n",
            "Epoch 5/20, Training loss: 0.21992221474647522\n",
            "Epoch 6/20, Training loss: 0.21548174419900873\n",
            "Epoch 7/20, Training loss: 0.21233988250349903\n",
            "Epoch 8/20, Training loss: 0.2120005101947994\n",
            "Epoch 9/20, Training loss: 0.2110310354075589\n",
            "Epoch 10/20, Training loss: 0.20805863643085565\n",
            "Epoch 11/20, Training loss: 0.20611902334532894\n",
            "Epoch 12/20, Training loss: 0.20458648181878603\n",
            "Epoch 13/20, Training loss: 0.2040393190397011\n",
            "Epoch 14/20, Training loss: 0.20283341522400195\n",
            "Epoch 15/20, Training loss: 0.20153949041287977\n",
            "Epoch 16/20, Training loss: 0.20060112532023544\n",
            "Epoch 17/20, Training loss: 0.19983056236754407\n",
            "Epoch 18/20, Training loss: 0.20114543231633994\n",
            "Epoch 19/20, Training loss: 0.19808423175261572\n",
            "Epoch 20/20, Training loss: 0.19873310396304497\n"
          ]
        }
      ]
    },
    {
      "cell_type": "code",
      "source": [
        "#TODO: Write code to plot the training error (MER) over epochs\n",
        "plt.plot(train_losses_m, label='Train loss (lr=0.01)')"
      ],
      "metadata": {
        "id": "RBr4bAXe3ngp",
        "colab": {
          "base_uri": "https://localhost:8080/",
          "height": 452
        },
        "outputId": "a42e9c80-661e-42a6-88da-07b34d8d5c7d"
      },
      "execution_count": 496,
      "outputs": [
        {
          "output_type": "execute_result",
          "data": {
            "text/plain": [
              "[<matplotlib.lines.Line2D at 0x7d27ad47f8b0>]"
            ]
          },
          "metadata": {},
          "execution_count": 496
        },
        {
          "output_type": "display_data",
          "data": {
            "text/plain": [
              "<Figure size 640x480 with 1 Axes>"
            ],
            "image/png": "[encoded data removed]"
          },
          "metadata": {}
        }
      ]
    },
    {
      "cell_type": "markdown",
      "source": [
        "**Question 1**: What are your final training errors of the multilayer perception model and the linear regression model?"
      ],
      "metadata": {
        "id": "t9e9Yeqr8PZZ"
      }
    },
    {
      "cell_type": "markdown",
      "source": [
        "---\n",
        "## Inference on test data\n",
        "\n",
        "After the MLP model is trained, we can use it for inference."
      ],
      "metadata": {
        "id": "08gC_-Q4pDon"
      }
    },
    {
      "cell_type": "code",
      "source": [
        "#TODO: write the code to generate predicted sale prices for test data\n",
        "# Predictions\n",
        "original_predictions = []  # To store predictions in the original scale\n",
        "\n",
        "for features in test_loader:\n",
        "    features = features.to('cuda')\n",
        "    predictions = MLP_net(features*Normalization)\n",
        "    original_predictions.append(predictions)\n",
        "\n",
        "\n",
        "original_predictions = torch.cat(original_predictions, dim=0)"
      ],
      "metadata": {
        "id": "jP5GJ4tCpHG8"
      },
      "execution_count": 497,
      "outputs": []
    },
    {
      "cell_type": "code",
      "source": [
        "original_predictions"
      ],
      "metadata": {
        "colab": {
          "base_uri": "https://localhost:8080/"
        },
        "id": "y2e4cZQRqdWM",
        "outputId": "f7b0abdf-5d07-4d96-9f48-8edaeeb8aa0f"
      },
      "execution_count": 498,
      "outputs": [
        {
          "output_type": "execute_result",
          "data": {
            "text/plain": [
              "tensor([[6.1326e+04],\n",
              "        [8.1034e-01],\n",
              "        [1.1946e+05],\n",
              "        ...,\n",
              "        [8.1034e-01],\n",
              "        [2.2334e+03],\n",
              "        [3.5278e+04]], device='cuda:0', grad_fn=<CatBackward0>)"
            ]
          },
          "metadata": {},
          "execution_count": 498
        }
      ]
    },
    {
      "cell_type": "code",
      "source": [
        "numpy_array = original_predictions.detach().cpu().numpy()\n",
        "\n",
        "# Create a Pandas DataFrame\n",
        "df = pd.DataFrame(numpy_array, columns=[\"Predicted Sale Price\"])"
      ],
      "metadata": {
        "id": "X4dcwfqdjJ-5"
      },
      "execution_count": 499,
      "outputs": []
    },
    {
      "cell_type": "code",
      "source": [
        "df.to_csv('test2.csv')"
      ],
      "metadata": {
        "id": "_cyyxvH9lnnB"
      },
      "execution_count": 500,
      "outputs": []
    },
    {
      "cell_type": "code",
      "source": [
        "#TODO: save the predicted sale prices into submission_csv\n",
        "images = torch"
      ],
      "metadata": {
        "id": "KmN6bTDupJyh"
      },
      "execution_count": null,
      "outputs": []
    },
    {
      "cell_type": "markdown",
      "source": [
        "Now, we can submit our predictions on Kaggle and see how they compare with the actual house prices (labels) on the test set.\n",
        "\n",
        "- Log in to the Kaggle website and visit the house price prediction competition page.\n",
        "\n",
        "- Click the “Submit Predictions”.\n",
        "\n",
        "- Click the “Browse Files” button in the dashed box at the bottom of the page and select the prediction file you wish to upload.\n",
        "\n",
        "- Click the “Submit” button at the bottom of the page to view your results."
      ],
      "metadata": {
        "id": "gNje9TjRphTx"
      }
    },
    {
      "cell_type": "markdown",
      "source": [
        "**Question 2**: What is the test error shown on Kaggle? How does it compare with the train error?"
      ],
      "metadata": {
        "id": "28-wqckhrA0z"
      }
    }
  ],
  "metadata": {
    "accelerator": "GPU",
    "colab": {
      "gpuType": "T4",
      "provenance": [],
      "include_colab_link": true
    },
    "kernelspec": {
      "display_name": "Python 3",
      "name": "python3"
    },
    "language_info": {
      "codemirror_mode": {
        "name": "ipython",
        "version": 3
      },
      "file_extension": ".py",
      "mimetype": "text/x-python",
      "name": "python",
      "nbconvert_exporter": "python",
      "pygments_lexer": "ipython3",
      "version": "3.9.13"
    }
  },
  "nbformat": 4,
  "nbformat_minor": 0
}